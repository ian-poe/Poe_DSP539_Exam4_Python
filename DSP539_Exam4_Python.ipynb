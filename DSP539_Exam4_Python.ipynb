{
 "cells": [
  {
   "cell_type": "code",
   "execution_count": null,
   "metadata": {},
   "outputs": [],
   "source": [
    "#Exam 4\n",
    "#BIO/DSP 439/539\n",
    "\n",
    "#The genome of an organism consists of a very long sequence of nucleic acids. From a\n",
    "#computational perspective, this can be thought of as a long string of letters where the\n",
    "#alphabet consists only of A, C, G, and T (e.g. ATGTCTGTCTGAA). This string can be\n",
    "#divided into overlapping substrings of length k. For example, if k = 2 then the substrings for\n",
    "#the example sequence above are AT, TG, GT, TC, CT, TG, GT, TC, CT, TG, GA, and AA.\n",
    "\n",
    "#Genome assemblies are constructed from sequenced genome fragments by identifying each\n",
    "#substring (called a k-mer) and the substring that comes after it in the sequence. Finding the\n",
    "#order of all of the substrings in the fragments produces a whole genome. For example, if k =\n",
    "#2 then the substring TG in the example is either followed by GT or GA.\n",
    "\n",
    "#Write a python script that, when run using the command line, gets information about each\n",
    "#k-mer and its subsequent k-mers in a file of sequence fragments (provided). This would be the\n",
    "#starting point to assemble a genome from these sequences; however, the process of genome\n",
    "#assembly is beyond the scope of this class."
   ]
  },
  {
   "cell_type": "code",
   "execution_count": 6,
   "metadata": {},
   "outputs": [
    {
     "data": {
      "text/plain": [
       "{'AT': 2, 'TG': 1, 'GG': 1, 'GA': 1, 'TT': 3, 'TA': 1, 'AA': 1}"
      ]
     },
     "execution_count": 6,
     "metadata": {},
     "output_type": "execute_result"
    }
   ],
   "source": [
    "s = 'ATGGATTTTAA'\n",
    "k = 2\n",
    "def count_substring(s,k):\n",
    "    substring_count = {}\n",
    "    for i in range(1,len(s)-k+2): #go through string\n",
    "        substring = s[i-1:i+k-1] #first time around this would be 0:4 non - inclusive\n",
    "        if substring not in substring_count:\n",
    "            substring_count[substring] = 1\n",
    "        else:\n",
    "            substring_count[substring] += 1            # last time i=8 so from 7:11 non-inclusive\n",
    "    return(substring_count)\n",
    "count_substring(s,k)"
   ]
  },
  {
   "cell_type": "code",
   "execution_count": 16,
   "metadata": {},
   "outputs": [
    {
     "name": "stdout",
     "output_type": "stream",
     "text": [
      "{'AT': {'TG': 1}, 'TG': {'GT': 2, 'GA': 1}, 'GT': {'TC': 2}, 'TC': {'CT': 2}, 'CT': {'TG': 2}, 'GA': {'AA': 1}}\n"
     ]
    }
   ],
   "source": [
    "def predicted_genome(s, k):\n",
    "    next_genome = {}\n",
    "    for i in range(len(s) - k):  #Ensure there is an Next Genome for the Value Specified\n",
    "        original_substring = s[i:i + k]  # Original Genome Substring\n",
    "        next_char = s[i + k]  # Genome Next Tern\n",
    "        new_substring = original_substring[1:] + next_char  # Remove first character, append next character\n",
    "\n",
    "        #For Every Genome Combination Not Already Seen a New Dictionary is Created\n",
    "        if original_substring not in next_genome:\n",
    "            next_genome[original_substring] = {}\n",
    "\n",
    "        # Count Occurrences of the Next Combination Substring\n",
    "        next_genome[original_substring][new_substring] = next_genome[original_substring].get(new_substring, 0) + 1\n",
    "\n",
    "    return next_genome\n",
    "\n",
    "s = \"ATGTCTGTCTGAA\"\n",
    "k = 2\n",
    "print(predicted_genome(s, k))"
   ]
  },
  {
   "cell_type": "code",
   "execution_count": 17,
   "metadata": {},
   "outputs": [
    {
     "ename": "NameError",
     "evalue": "name 'sys' is not defined",
     "output_type": "error",
     "traceback": [
      "\u001b[0;31m---------------------------------------------------------------------------\u001b[0m",
      "\u001b[0;31mNameError\u001b[0m                                 Traceback (most recent call last)",
      "\u001b[0;32m<ipython-input-17-19fa741b030b>\u001b[0m in \u001b[0;36m<module>\u001b[0;34m\u001b[0m\n\u001b[1;32m     16\u001b[0m     \u001b[0;32mreturn\u001b[0m \u001b[0mnext_genome\u001b[0m\u001b[0;34m\u001b[0m\u001b[0;34m\u001b[0m\u001b[0m\n\u001b[1;32m     17\u001b[0m \u001b[0;34m\u001b[0m\u001b[0m\n\u001b[0;32m---> 18\u001b[0;31m \u001b[0ms\u001b[0m \u001b[0;34m=\u001b[0m \u001b[0msys\u001b[0m\u001b[0;34m.\u001b[0m\u001b[0margv\u001b[0m\u001b[0;34m[\u001b[0m\u001b[0;36m1\u001b[0m\u001b[0;34m]\u001b[0m \u001b[0;31m#Input 1 on command Line\u001b[0m\u001b[0;34m\u001b[0m\u001b[0;34m\u001b[0m\u001b[0m\n\u001b[0m\u001b[1;32m     19\u001b[0m \u001b[0;34m\u001b[0m\u001b[0m\n\u001b[1;32m     20\u001b[0m \u001b[0;32mwith\u001b[0m \u001b[0mopen\u001b[0m\u001b[0;34m(\u001b[0m\u001b[0ms\u001b[0m\u001b[0;34m,\u001b[0m \u001b[0;34m\"r\"\u001b[0m\u001b[0;34m)\u001b[0m \u001b[0;32mas\u001b[0m \u001b[0mfile\u001b[0m\u001b[0;34m:\u001b[0m\u001b[0;34m\u001b[0m\u001b[0;34m\u001b[0m\u001b[0m\n",
      "\u001b[0;31mNameError\u001b[0m: name 'sys' is not defined"
     ]
    }
   ],
   "source": [
    "\n",
    "def predicted_genome(s, k):\n",
    "    next_genome = {}\n",
    "    for i in range(len(s) - k):  #Ensure there is an Next Genome for the Value Specified\n",
    "        original_substring = s[i:i + k]  # Original Genome Substring\n",
    "        next_char = s[i + k]  # Genome Next Tern\n",
    "        new_substring = original_substring[1:] + next_char  # Remove first character, append next character\n",
    "\n",
    "        #For Every Genome Combination Not Already Seen a New Dictionary is Created\n",
    "        if original_substring not in next_genome:\n",
    "            next_genome[original_substring] = {}\n",
    "\n",
    "        # Count Occurrences of the Next Combination Substring\n",
    "        next_genome[original_substring][new_substring] = next_genome[original_substring].get(new_substring, 0) + 1\n",
    "\n",
    "    return next_genome\n",
    "\n",
    "s = sys.argv[1] #Input 1 on command Line\n",
    "\n",
    "with open(s, \"r\") as file:\n",
    "    file_content = file.read()  # Reads the entire file into a string\n",
    "k = sys.argv[2] #Input 2 in command Line\n",
    "\n",
    "print(predicted_genome(file_content, k)) #Print Final Results\n"
   ]
  },
  {
   "cell_type": "code",
   "execution_count": null,
   "metadata": {},
   "outputs": [],
   "source": [
    "import sys\n",
    "def predicted_genome(s, k):\n",
    "    next_genome = {}\n",
    "    for i in range(len(s) - k):  # Ensure there is a Next Genome for the Value Specified\n",
    "        original_substring = s[i:i + k]  # Original Genome Substring\n",
    "        next_char = s[i + k]  # Genome Next Term\n",
    "        new_substring = original_substring[1:] + next_char  # Remove first character and adds next character\n",
    "\n",
    "        # For Every Genome Combination Not Already Seen, a New Dictionary is Created\n",
    "        if original_substring not in next_genome:\n",
    "            next_genome[original_substring] = {}\n",
    "\n",
    "        # Count Occurrences of the Next Combination Substring\n",
    "        next_genome[original_substring][new_substring] = next_genome[original_substring].get(new_substring, 0) + 1\n",
    "\n",
    "    return next_genome\n",
    "\n",
    "# Get command-line inputs\n",
    "file_path = sys.argv[1]  # Input 1: File name\n",
    "k = int(sys.argv[2])     # Input 2: Convert to integer\n",
    "output_file_name = sys.argv[3] #Input 3: Output File Name\n",
    "\n",
    "# Read data as a single string\n",
    "with open(file_path, \"r\") as file:\n",
    "    file_content = file.read().strip()  # remove any spaceing between lines\n",
    "\n",
    "# Run the function and print results\n",
    "#print(predicted_genome(file_content, k))\n",
    "\n",
    " #OUTPUT of the Function\n",
    "output = predicted_genome(file_content, k) \n",
    "#Export New Text File\n",
    "with open(output_file_name, \"w\") as out_file: #Open a Text File\n",
    "    for key, value in output.items():\n",
    "        out_file.write(\"{}: {}\\n\".format(key, value)) #Format for the new File\n",
    "\n",
    "print(\"Output saved to {}\".format(output_file_name))  #Print Conformation for File Output"
   ]
  },
  {
   "cell_type": "code",
   "execution_count": 29,
   "metadata": {},
   "outputs": [
    {
     "name": "stdout",
     "output_type": "stream",
     "text": [
      "GAAATTCTCGTAAATTCTCTCAAATTCTCTGAAATTCTCTTAAATTCTGACAAATTCTGAGAAATTCTGATAAATTCTGCCAAATTCTGCGAAATTCTGCTAAATTCTGGCAAATTCTGGGAAATTCTGGTAAATTCTGTCAAATTCTGTTAAGGGCATTCAAGGGCATTGAAGGGCATTTAAGGGCCAATAAGGGCCACCAAGGGCCACGAAGGGCCACTAAGGGCCAGCAAGGGCCAGGAAGGGCCAGTAAGGGCCATCAAGGGCCATGAAGGGCCATTAAGGGCCCACAAGGGCCCATAAGGGGTGTCAAGGGGTGTGAAGGGGTGTTAAGGGGTTACAAGGGGTTAGAAGGGGTTATAAGGGGTTCCAAGGGGTTCGAAGGGGTTCTAAGGGGTTGCAAGGGGTTGGAAGGGGTTGTAAGGGGTTTCAAGGGGTTTGAAGGGGTTTTTGCATATACTTGCATCCACTTGCATCGACTTGCATCTACTTGCATGCACTTGCATGGACTTGCATGTACTTGCATTCACTTGCATTGACTTGCATTTACTTGCCAGCACTTGCCAGGACTTGCCAGTACTTGCCATCACTTGCCATGACTATGGTGATATATGGTTATATATGTCCATATATGTCGATATATGTCTATATATGTGCATATATGTGGATATATGTGTATATATGTTCATATATGTTGATATATGTTTATATATTATCATATATTATGATATATTATTATATATTCCCATATCCCGCAAAGTCCCGGAAAGTCCCGTAAAGTCCCTCAAAGTCCCTGAAAGTCCCTTAAAGTCCGACAAAGTCCGAGAAAGTCCGATAAAGTCCGCCAAAGTCCGCGAAAGTCCGCTAAAGTCCGGCAAAGTCCGGGAAAGTCCGGTAAAGCCCGAGAATACCCGATAATACCCGCCAATACCCGCGAATACCCGCTAATACCCGGCAATACCCGGGAATACCCGGTAATACCCGTCAATACCCGTGAATACCCGTTAATACCCTACAATACCCTAGAATACCCTATAATACCCTCCAATA\n",
      "{'GA': {'AA': 24, 'AC': 7, 'AG': 3, 'AT': 8}, 'AA': {'AA': 30, 'AT': 31, 'AG': 45}, 'AT': {'TT': 27, 'TA': 53, 'TC': 7, 'TG': 17}, 'TT': {'TC': 23, 'TA': 17, 'TG': 22, 'TT': 8}, 'TC': {'CT': 21, 'CG': 4, 'CA': 12, 'CC': 20}, 'CT': {'TC': 7, 'TG': 13, 'TT': 16, 'TA': 11}, 'CG': {'GT': 5, 'GA': 12, 'GC': 7, 'GG': 7}, 'GT': {'TA': 10, 'TC': 20, 'TT': 19, 'TG': 9}, 'TA': {'AA': 26, 'AC': 21, 'AG': 2, 'AT': 41}, 'CA': {'AA': 26, 'AT': 24, 'AC': 9, 'AG': 6}, 'TG': {'GA': 15, 'GC': 21, 'GG': 8, 'GT': 17}, 'AC': {'CA': 5, 'CC': 15, 'CG': 1, 'CT': 16}, 'AG': {'GA': 5, 'GG': 32, 'GC': 3, 'GT': 16}, 'GC': {'CC': 21, 'CG': 3, 'CT': 3, 'CA': 22}, 'CC': {'CA': 26, 'CC': 24, 'CG': 23, 'CT': 7}, 'GG': {'GC': 18, 'GG': 48, 'GA': 9, 'GT': 20}}\n"
     ]
    }
   ],
   "source": [
    "import sys\n",
    "def predicted_genome(s, k):\n",
    "    next_genome = {}\n",
    "    for i in range(len(s) - k):  # Ensure there is a Next Genome for the Value Specified\n",
    "        original_substring = s[i:i + k]  # Original Genome Substring\n",
    "        next_char = s[i + k]  # Genome Next Term\n",
    "        new_substring = original_substring[1:] + next_char  # Remove first character and adds next character\n",
    "\n",
    "        # For Every Genome Combination Not Already Seen, a New Dictionary is Created\n",
    "        if original_substring not in next_genome:\n",
    "            next_genome[original_substring] = {}\n",
    "\n",
    "        # Count Occurrences of the Next Combination Substring\n",
    "        next_genome[original_substring][new_substring] = next_genome[original_substring].get(new_substring, 0) + 1\n",
    "\n",
    "    return next_genome\n",
    "\n",
    "\n",
    "k = 2 #int(sys.argv[2])  \n",
    "\n",
    "with open(\"exam4_textdata2\", \"r\") as file:\n",
    "    file_content = file.read().replace(\"\\n\", \"\").strip()  # remove any spaceing between lines\n",
    "print(file_content)\n",
    "output = predicted_genome(file_content, k) \n",
    "print(output)\n",
    "\n",
    "with open(\"test.txt\", \"w\") as out_file: #Open a Text File\n",
    "   for key, value in output.items():\n",
    "        out_file.write(\"{}: {}\\n\".format(key, value)) #Format for the new File"
   ]
  },
  {
   "cell_type": "code",
   "execution_count": null,
   "metadata": {},
   "outputs": [],
   "source": [
    "#Split Into Multiple Smaller Functions"
   ]
  },
  {
   "cell_type": "code",
   "execution_count": 1,
   "metadata": {},
   "outputs": [],
   "source": [
    "import sys"
   ]
  },
  {
   "cell_type": "code",
   "execution_count": 3,
   "metadata": {},
   "outputs": [],
   "source": [
    "def read_genome_file(file_path):\n",
    "    \"\"\"\n",
    "    Reads genome data from a file and returns it as a single string.\n",
    "    File Sould Consist of A single Genome of A Organism\n",
    "    \"\"\"\n",
    "    with open(file_path, \"r\") as file:\n",
    "        return file.read().replace(\"\\n\", \"\").strip()  # Removes newlines & extra spaces\n",
    "    "
   ]
  },
  {
   "cell_type": "code",
   "execution_count": 4,
   "metadata": {},
   "outputs": [],
   "source": [
    "def identify_genomes(s, k):\n",
    "    \"\"\"\n",
    "    Identifies and returns a list of all genome substrings of length k.\n",
    "    \"\"\"\n",
    "    return [s[i:i + k] for i in range(len(s) - k + 1)]"
   ]
  },
  {
   "cell_type": "code",
   "execution_count": 5,
   "metadata": {},
   "outputs": [
    {
     "data": {
      "text/plain": [
       "['AT', 'TG', 'GT', 'TC', 'CT', 'TG', 'GT', 'TC', 'CT', 'TG', 'GA', 'AA']"
      ]
     },
     "execution_count": 5,
     "metadata": {},
     "output_type": "execute_result"
    }
   ],
   "source": [
    "identify_genomes('ATGTCTGTCTGAA',2)"
   ]
  },
  {
   "cell_type": "code",
   "execution_count": 10,
   "metadata": {},
   "outputs": [],
   "source": [
    "def count_total_genomes(s, k):\n",
    "    \"\"\"Creates a dictionary tracking frequencies of next genome substrings.\"\"\"\n",
    "    total_counts = {}\n",
    "    for i in range(len(s) - k + 1):\n",
    "        original_substring = s[i:i + k]\n",
    "\n",
    "        if original_substring not in total_counts:\n",
    "            total_counts[original_substring] = 0  \n",
    "            \n",
    "        total_counts[original_substring] += 1 \n",
    "    return total_counts"
   ]
  },
  {
   "cell_type": "code",
   "execution_count": 7,
   "metadata": {},
   "outputs": [
    {
     "data": {
      "text/plain": [
       "[{'AT': 1, 'TG': 3, 'GT': 2, 'TC': 2, 'CT': 2, 'GA': 1, 'AA': 1}]"
      ]
     },
     "execution_count": 7,
     "metadata": {},
     "output_type": "execute_result"
    }
   ],
   "source": [
    "count_total_genomes('ATGTCTGTCTGAA',2)"
   ]
  },
  {
   "cell_type": "code",
   "execution_count": 8,
   "metadata": {},
   "outputs": [],
   "source": [
    "def next_genomes(s, k):\n",
    "    \"\"\"Identifys the List of Next Genom Subset\"\"\"\n",
    "    return [s[i+1:i + k +1] for i in range(len(s) - k)]"
   ]
  },
  {
   "cell_type": "code",
   "execution_count": 9,
   "metadata": {},
   "outputs": [
    {
     "data": {
      "text/plain": [
       "['TG', 'GT', 'TC', 'CT', 'TG', 'GT', 'TC', 'CT', 'TG', 'GA', 'AA']"
      ]
     },
     "execution_count": 9,
     "metadata": {},
     "output_type": "execute_result"
    }
   ],
   "source": [
    "next_genomes('ATGTCTGTCTGAA',2)"
   ]
  },
  {
   "cell_type": "code",
   "execution_count": 19,
   "metadata": {},
   "outputs": [],
   "source": [
    "def count_next_genomes(s, k):\n",
    "    \"\"\"Creates a dictionary tracking frequencies of next genome substrings.\"\"\"\n",
    "    next_genome = {}\n",
    "    total_counts = count_total_genomes(s, k)  \n",
    "\n",
    "    for i in range(len(s) - k):\n",
    "        original_substring = s[i:i + k]\n",
    "        next_char = s[i + k]\n",
    "        new_substring = original_substring[1:] + next_char\n",
    "\n",
    "        if original_substring not in next_genome:\n",
    "            next_genome[original_substring] = {}\n",
    "\n",
    "        next_genome[original_substring][new_substring] = next_genome[original_substring].get(new_substring, 0) + 1\n",
    "    \n",
    "    return next_genome, total_counts "
   ]
  },
  {
   "cell_type": "code",
   "execution_count": 17,
   "metadata": {},
   "outputs": [],
   "source": [
    "def check_edge_values(s, k):\n",
    "    \"\"\"Checks edge cases where sequences may not align properly.\"\"\"\n",
    "    return s[-k:]  # Last characters of the sequence that may not form a valid substring"
   ]
  },
  {
   "cell_type": "code",
   "execution_count": 13,
   "metadata": {},
   "outputs": [],
   "source": [
    "def write_output(output, total_counts, output_file_name):\n",
    "    \"\"\"Writes genome substring predictions and frequencies to an output file.\"\"\"\n",
    "    with open(output_file_name, \"w\") as out_file:\n",
    "        for key, value in output.items():\n",
    "            total_frequency = total_counts[key]\n",
    "            out_file.write(\"{} : {}: {}\\n\".format(key, total_frequency, value))  "
   ]
  },
  {
   "cell_type": "code",
   "execution_count": 14,
   "metadata": {},
   "outputs": [
    {
     "ename": "ValueError",
     "evalue": "invalid literal for int() with base 10: '/mnt/homes4celsrs/ian_poe/.local/share/jupyter/runtime/kernel-73ba33a8-54f1-4aeb-8328-8b34e74e8a48.json'",
     "output_type": "error",
     "traceback": [
      "\u001b[0;31m---------------------------------------------------------------------------\u001b[0m",
      "\u001b[0;31mValueError\u001b[0m                                Traceback (most recent call last)",
      "\u001b[0;32m<ipython-input-14-cc62a5d49c86>\u001b[0m in \u001b[0;36m<module>\u001b[0;34m\u001b[0m\n\u001b[1;32m     12\u001b[0m \u001b[0;34m\u001b[0m\u001b[0m\n\u001b[1;32m     13\u001b[0m \u001b[0;32mif\u001b[0m \u001b[0m__name__\u001b[0m \u001b[0;34m==\u001b[0m \u001b[0;34m\"__main__\"\u001b[0m\u001b[0;34m:\u001b[0m\u001b[0;34m\u001b[0m\u001b[0;34m\u001b[0m\u001b[0m\n\u001b[0;32m---> 14\u001b[0;31m     \u001b[0mmain\u001b[0m\u001b[0;34m(\u001b[0m\u001b[0;34m)\u001b[0m\u001b[0;34m\u001b[0m\u001b[0;34m\u001b[0m\u001b[0m\n\u001b[0m",
      "\u001b[0;32m<ipython-input-14-cc62a5d49c86>\u001b[0m in \u001b[0;36mmain\u001b[0;34m()\u001b[0m\n\u001b[1;32m      2\u001b[0m     \u001b[0;34m\"\"\"Main function to run the genome prediction.\"\"\"\u001b[0m\u001b[0;34m\u001b[0m\u001b[0;34m\u001b[0m\u001b[0m\n\u001b[1;32m      3\u001b[0m     \u001b[0mfile_path\u001b[0m \u001b[0;34m=\u001b[0m \u001b[0msys\u001b[0m\u001b[0;34m.\u001b[0m\u001b[0margv\u001b[0m\u001b[0;34m[\u001b[0m\u001b[0;36m1\u001b[0m\u001b[0;34m]\u001b[0m\u001b[0;34m\u001b[0m\u001b[0;34m\u001b[0m\u001b[0m\n\u001b[0;32m----> 4\u001b[0;31m     \u001b[0mk\u001b[0m \u001b[0;34m=\u001b[0m \u001b[0mint\u001b[0m\u001b[0;34m(\u001b[0m\u001b[0msys\u001b[0m\u001b[0;34m.\u001b[0m\u001b[0margv\u001b[0m\u001b[0;34m[\u001b[0m\u001b[0;36m2\u001b[0m\u001b[0;34m]\u001b[0m\u001b[0;34m)\u001b[0m\u001b[0;34m\u001b[0m\u001b[0;34m\u001b[0m\u001b[0m\n\u001b[0m\u001b[1;32m      5\u001b[0m     \u001b[0moutput_file_name\u001b[0m \u001b[0;34m=\u001b[0m \u001b[0msys\u001b[0m\u001b[0;34m.\u001b[0m\u001b[0margv\u001b[0m\u001b[0;34m[\u001b[0m\u001b[0;36m3\u001b[0m\u001b[0;34m]\u001b[0m\u001b[0;34m\u001b[0m\u001b[0;34m\u001b[0m\u001b[0m\n\u001b[1;32m      6\u001b[0m \u001b[0;34m\u001b[0m\u001b[0m\n",
      "\u001b[0;31mValueError\u001b[0m: invalid literal for int() with base 10: '/mnt/homes4celsrs/ian_poe/.local/share/jupyter/runtime/kernel-73ba33a8-54f1-4aeb-8328-8b34e74e8a48.json'"
     ]
    }
   ],
   "source": [
    "def main():\n",
    "    \"\"\"Main function to run the genome prediction.\"\"\"\n",
    "    file_path = sys.argv[1]  \n",
    "    k = int(sys.argv[2])    \n",
    "    output_file_name = sys.argv[3]  \n",
    "\n",
    "    genome_string = read_genome_file(file_path)\n",
    "    output, total_counts = count_next_genomes(genome_string, k)\n",
    "    write_output(output, total_counts, output_file_name)\n",
    "\n",
    "    print(\"Output saved to {}\".format(output_file_name))\n",
    "\n",
    "if __name__ == \"__main__\":\n",
    "    main()"
   ]
  },
  {
   "cell_type": "code",
   "execution_count": 28,
   "metadata": {},
   "outputs": [
    {
     "data": {
      "text/plain": [
       "{'AT': {'TG': 1},\n",
       " 'TG': {'GT': 3, 'GA': 1},\n",
       " 'GT': {'TC': 3},\n",
       " 'TC': {'CT': 3},\n",
       " 'CT': {'TG': 3},\n",
       " 'GA': {'AA': 1},\n",
       " 'AA': {'AC': 1},\n",
       " 'AC': {'CT': 1}}"
      ]
     },
     "execution_count": 28,
     "metadata": {},
     "output_type": "execute_result"
    }
   ],
   "source": [
    "count_next_genomes(\"ATGTCTGTCTGAACTGTCT\",2)[0]"
   ]
  },
  {
   "cell_type": "code",
   "execution_count": null,
   "metadata": {},
   "outputs": [],
   "source": []
  }
 ],
 "metadata": {
  "kernelspec": {
   "display_name": "Python 3",
   "language": "python",
   "name": "python3"
  },
  "language_info": {
   "codemirror_mode": {
    "name": "ipython",
    "version": 3
   },
   "file_extension": ".py",
   "mimetype": "text/x-python",
   "name": "python",
   "nbconvert_exporter": "python",
   "pygments_lexer": "ipython3",
   "version": "3.6.8"
  }
 },
 "nbformat": 4,
 "nbformat_minor": 4
}
