{
 "cells": [
  {
   "cell_type": "code",
   "execution_count": null,
   "metadata": {},
   "outputs": [],
   "source": [
    "#Exam 4\n",
    "#BIO/DSP 439/539\n",
    "\n",
    "#The genome of an organism consists of a very long sequence of nucleic acids. From a\n",
    "#computational perspective, this can be thought of as a long string of letters where the\n",
    "#alphabet consists only of A, C, G, and T (e.g. ATGTCTGTCTGAA). This string can be\n",
    "#divided into overlapping substrings of length k. For example, if k = 2 then the substrings for\n",
    "#the example sequence above are AT, TG, GT, TC, CT, TG, GT, TC, CT, TG, GA, and AA.\n",
    "\n",
    "#Genome assemblies are constructed from sequenced genome fragments by identifying each\n",
    "#substring (called a k-mer) and the substring that comes after it in the sequence. Finding the\n",
    "#order of all of the substrings in the fragments produces a whole genome. For example, if k =\n",
    "#2 then the substring TG in the example is either followed by GT or GA.\n",
    "\n",
    "#Write a python script that, when run using the command line, gets information about each\n",
    "#k-mer and its subsequent k-mers in a file of sequence fragments (provided). This would be the\n",
    "#starting point to assemble a genome from these sequences; however, the process of genome\n",
    "#assembly is beyond the scope of this class."
   ]
  },
  {
   "cell_type": "code",
   "execution_count": 6,
   "metadata": {},
   "outputs": [
    {
     "data": {
      "text/plain": [
       "{'AT': 2, 'TG': 1, 'GG': 1, 'GA': 1, 'TT': 3, 'TA': 1, 'AA': 1}"
      ]
     },
     "execution_count": 6,
     "metadata": {},
     "output_type": "execute_result"
    }
   ],
   "source": [
    "s = 'ATGGATTTTAA'\n",
    "k = 2\n",
    "def count_substring(s,k):\n",
    "    substring_count = {}\n",
    "    for i in range(1,len(s)-k+2): #go through string\n",
    "        substring = s[i-1:i+k-1] #first time around this would be 0:4 non - inclusive\n",
    "        if substring not in substring_count:\n",
    "            substring_count[substring] = 1\n",
    "        else:\n",
    "            substring_count[substring] += 1            # last time i=8 so from 7:11 non-inclusive\n",
    "    return(substring_count)\n",
    "count_substring(s,k)"
   ]
  },
  {
   "cell_type": "code",
   "execution_count": 15,
   "metadata": {},
   "outputs": [
    {
     "name": "stdout",
     "output_type": "stream",
     "text": [
      "{'AT': {'TG': 1, 'TT': 1}, 'TG': {'GG': 1}, 'GG': {'GA': 1}, 'GA': {'AT': 1}, 'TT': {'TT': 2, 'TA': 1}, 'TA': {'AA': 1}}\n"
     ]
    }
   ],
   "source": [
    "def predicted_genome(s, k):\n",
    "    next_genome = {}\n",
    "    for i in range(len(s) - k):  #Ensure there is an Next Genome for the Value Specified\n",
    "        original_substring = s[i:i + k]  # Original Genome Substring\n",
    "        next_char = s[i + k]  # Genome Next Tern\n",
    "        new_substring = original_substring[1:] + next_char  # Remove first character, append next character\n",
    "\n",
    "        #For Every Genome Combination Not Already Seen a New Dictionary is Created\n",
    "        if original_substring not in next_genome:\n",
    "            next_genome[original_substring] = {}\n",
    "\n",
    "        # Count Occurrences of the Next Combination Substring\n",
    "        next_genome[original_substring][new_substring] = next_genome[original_substring].get(new_substring, 0) + 1\n",
    "\n",
    "    return next_genome\n",
    "\n",
    "s = \"ATGGATTTTAA\"\n",
    "k = 2\n",
    "print(predicted_genome(s, k))"
   ]
  },
  {
   "cell_type": "code",
   "execution_count": null,
   "metadata": {},
   "outputs": [],
   "source": [
    "\n",
    "def predicted_genome(s, k):\n",
    "    next_genome = {}\n",
    "    for i in range(len(s) - k):  #Ensure there is an Next Genome for the Value Specified\n",
    "        original_substring = s[i:i + k]  # Original Genome Substring\n",
    "        next_char = s[i + k]  # Genome Next Tern\n",
    "        new_substring = original_substring[1:] + next_char  # Remove first character, append next character\n",
    "\n",
    "        #For Every Genome Combination Not Already Seen a New Dictionary is Created\n",
    "        if original_substring not in next_genome:\n",
    "            next_genome[original_substring] = {}\n",
    "\n",
    "        # Count Occurrences of the Next Combination Substring\n",
    "        next_genome[original_substring][new_substring] = next_genome[original_substring].get(new_substring, 0) + 1\n",
    "\n",
    "    return next_genome\n",
    "\n",
    "s = sys.argv[1]\n",
    "\n",
    "with open(s, \"r\") as file:\n",
    "    file_content = file.read()  # Reads the entire file into a string\n",
    "k = sys.argv[2]\n",
    "\n",
    "print(predicted_genome(file_content, k))\n"
   ]
  }
 ],
 "metadata": {
  "kernelspec": {
   "display_name": "Python 3",
   "language": "python",
   "name": "python3"
  },
  "language_info": {
   "codemirror_mode": {
    "name": "ipython",
    "version": 3
   },
   "file_extension": ".py",
   "mimetype": "text/x-python",
   "name": "python",
   "nbconvert_exporter": "python",
   "pygments_lexer": "ipython3",
   "version": "3.6.8"
  }
 },
 "nbformat": 4,
 "nbformat_minor": 4
}
